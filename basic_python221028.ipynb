{
  "nbformat": 4,
  "nbformat_minor": 0,
  "metadata": {
    "colab": {
      "provenance": [],
      "authorship_tag": "ABX9TyO3NUgiacNQZmJh3q27InBY",
      "include_colab_link": true
    },
    "kernelspec": {
      "name": "python3",
      "display_name": "Python 3"
    },
    "language_info": {
      "name": "python"
    }
  },
  "cells": [
    {
      "cell_type": "markdown",
      "metadata": {
        "id": "view-in-github",
        "colab_type": "text"
      },
      "source": [
        "<a href=\"https://colab.research.google.com/github/GijooHong/BP_05_Ch3/blob/main/basic_python221028.ipynb\" target=\"_parent\"><img src=\"https://colab.research.google.com/assets/colab-badge.svg\" alt=\"Open In Colab\"/></a>"
      ]
    },
    {
      "cell_type": "markdown",
      "source": [
        "1.사용자로부터 두 개의 정수를 받은 정수의 합, 정수의 차, 정수의 곱, 정수의 평균, 큰 수, 작은 수를 계산하여 화면에 출력하는 프로그랩을 작성하라. 파이썬이 제공하는 내 장 함수 max(x, y), min(x, y)을 사용해보자.\n",
        "\n",
        "*   항목 추가\n",
        "*   항목 추가\n",
        "\n"
      ],
      "metadata": {
        "id": "p-VE5O6seXVB"
      }
    },
    {
      "cell_type": "code",
      "execution_count": null,
      "metadata": {
        "colab": {
          "base_uri": "https://localhost:8080/"
        },
        "id": "1WfFFURFYfib",
        "outputId": "cc9f0ba6-461e-4063-90e5-74741db34464"
      },
      "outputs": [
        {
          "output_type": "stream",
          "name": "stdout",
          "text": [
            "x의 값은?: 9\n",
            "y의 값은?: 6\n",
            "두 수의 합은 : 15\n",
            "두 수의 차는 : 3\n",
            "두 수의 곱은 : 54\n",
            "두 수의 평균은 : 7.5\n",
            "큰 수는? : 9\n",
            "작은 수는? : 6\n"
          ]
        }
      ],
      "source": [
        "x = int(input(\"x의 값은?: \"))\n",
        "y = int(input(\"y의 값은?: \"))\n",
        "\n",
        "print(\"두 수의 합은 :\", x + y)\n",
        "print(\"두 수의 차는 :\", x - y)\n",
        "print(\"두 수의 곱은 :\", x * y)\n",
        "print(\"두 수의 평균은 :\", (x + y)/2)\n",
        "print(\"큰 수는? :\", max(x, y))\n",
        "print(\"작은 수는? :\", min(x, y))"
      ]
    },
    {
      "cell_type": "markdown",
      "source": [
        "2.원기둥의 부피를 계산하는 프로그램 을 작성해보자. 원기둥의 부피는 다음과 같이 계산 한다.(계산식은 3.141592 r**2 h)"
      ],
      "metadata": {
        "id": "M417Yz2ZeeG2"
      }
    },
    {
      "cell_type": "code",
      "source": [
        "r =float(input(\"r값은? :\"))\n",
        "h =float(input(\"h값은? :\"))\n",
        "\n",
        "vol = 3.141592 * r**2 * h\n",
        "print(\"원기둥의 부피:\", vol)"
      ],
      "metadata": {
        "colab": {
          "base_uri": "https://localhost:8080/"
        },
        "id": "IEoBGfwlcbfJ",
        "outputId": "0cd59af7-c1f9-4a66-8b5e-e1108cddfa00"
      },
      "execution_count": null,
      "outputs": [
        {
          "output_type": "stream",
          "name": "stdout",
          "text": [
            "r값은? :10\n",
            "h값은? :10\n",
            "원기둥의 부피: 3141.592\n"
          ]
        }
      ]
    },
    {
      "cell_type": "markdown",
      "source": [
        "3. 사용자로부터 정수를 받아서 정수의 자리수의 합을 계산하는 프로그램을 작성하여 보자. 예를 들어서 사용자가 1234를 입력하였다면 1+2+3+4를 계산하면 된다. 나머지 연산자와 정수 나눗셈 연산자를 //를 적극적으로 사용해보자."
      ],
      "metadata": {
        "id": "x1jmgyTCWaMQ"
      }
    },
    {
      "cell_type": "code",
      "source": [
        "number = int(input(\"정수를 입력하시오.: \"))\n",
        "\n",
        "sum = 0\n",
        "sum = sum + number % 10\n",
        "number = number // 10\n",
        "\n",
        "sum = sum + number % 10\n",
        "number = number // 10\n",
        "\n",
        "sum = sum + number % 10\n",
        "number = number // 10\n",
        "\n",
        "sum = sum + number % 10\n",
        "number = number // 10\n",
        "\n",
        "print(\"자리수의 합은: \", str(sum) )"
      ],
      "metadata": {
        "colab": {
          "base_uri": "https://localhost:8080/"
        },
        "id": "wXeMvF5Cepfq",
        "outputId": "4d3f26b4-3e70-4598-97a2-38217bfed684"
      },
      "execution_count": null,
      "outputs": [
        {
          "output_type": "stream",
          "name": "stdout",
          "text": [
            "정수를 입력하시오.: 1234\n",
            "자리수의 합은:  10\n"
          ]
        }
      ]
    },
    {
      "cell_type": "markdown",
      "source": [
        "4. 사용자로부터 두 점의 좌표 (x1,y1)과 (x2,y2)를 입력받아서 두 점 사이의 거리를 계산하는 프로그램을 작성해보자. 스크립트 모드로 작성하라. 거리는 다음 식으로 계산한다. "
      ],
      "metadata": {
        "id": "YJclPO0RWzNP"
      }
    },
    {
      "cell_type": "code",
      "source": [
        "x1 = int(input(\"x1값을 입력하시오.: \"))\n",
        "x2 = int(input(\"x2값을 입력하시오.: \"))\n",
        "y1 = int(input(\"y1값을 입력하시오.: \"))\n",
        "y2 = int(input(\"y2값을 입력하시오.: \"))\n",
        "dist = ((x2 - x1)**2 + (y2 - y1)**2)** 0.5\n",
        "print(\"두점의 사이의 거리는? \", dist, \"입니다.\")"
      ],
      "metadata": {
        "colab": {
          "base_uri": "https://localhost:8080/"
        },
        "id": "Q6NZ7N_2iEXF",
        "outputId": "4cf825e6-c9ba-44dc-eb37-2628c49450f7"
      },
      "execution_count": null,
      "outputs": [
        {
          "output_type": "stream",
          "name": "stdout",
          "text": [
            "x1값을 입력하시오.: 0\n",
            "x2값을 입력하시오.: 100\n",
            "y1값을 입력하시오.: 0\n",
            "y2값을 입력하시오.: 100\n",
            "두점의 사이의 거리는?  141.4213562373095 입니다.\n"
          ]
        }
      ]
    },
    {
      "cell_type": "markdown",
      "source": [
        "5. "
      ],
      "metadata": {
        "id": "d0lTgf5UXF7y"
      }
    },
    {
      "cell_type": "markdown",
      "source": [
        "import turtle \n",
        "t = turtle.Turtle()\n",
        "t.shape(\"turtle\")\n",
        "t.left(45)\n",
        "t.forward(141)\n",
        "t.setheading(0)\n",
        "t.goto(0,0)\n",
        "t.fd(100)\n",
        "t.lt(90)\n",
        "t.fd(100)"
      ],
      "metadata": {
        "id": "tfS3ai42m_AE"
      }
    },
    {
      "cell_type": "markdown",
      "source": [
        "6."
      ],
      "metadata": {
        "id": "bTIYS4JxXYpG"
      }
    },
    {
      "cell_type": "code",
      "source": [
        "import turtle\n",
        "t= turtle.Turtle()\n",
        "t.shape(\"turtle\")\n",
        "x1 = int(input(\"x1:\"))\n",
        "x1:0\n",
        "y1 = int(input(\"y1:\"))\n",
        "y1:0\n",
        "x2 = int(input(\"x2:\"))\n",
        "x2:100\n",
        "y2 = int(input(\"y2:\"))\n",
        "y2:100\n",
        "dist = ((x1 - x2)**2 +(y1 - y2)**2)**0.5\n",
        "t.up()\n",
        "t.goto(x1,y1)\n",
        "t.down()\n",
        "t.goto(x2,y2)\n",
        "t.write(\"점의 길이는=\" + str(dist))"
      ],
      "metadata": {
        "id": "44rjtE0usjAc"
      },
      "execution_count": null,
      "outputs": []
    },
    {
      "cell_type": "markdown",
      "source": [
        "7."
      ],
      "metadata": {
        "id": "i8d20wbibCKq"
      }
    },
    {
      "cell_type": "code",
      "source": [
        "import time\n",
        "fseconds = time.time()\n",
        "sec = int(fseconds)\n",
        "min = (sec//60)%60\n",
        "hour = ((sec//60)//60)%24\n",
        "\n",
        "print(\"현재 시간(영국 그리니치 시각):\" +str(hour+9) + \"시\" + str(min) + \"분\")"
      ],
      "metadata": {
        "colab": {
          "base_uri": "https://localhost:8080/"
        },
        "id": "811PVjGMXnx1",
        "outputId": "0d2813c6-3c64-4c20-c913-4469880c9307"
      },
      "execution_count": 6,
      "outputs": [
        {
          "output_type": "stream",
          "name": "stdout",
          "text": [
            "현재 시간(영국 그리니치 시각):19시48분\n"
          ]
        }
      ]
    },
    {
      "cell_type": "markdown",
      "source": [
        "8."
      ],
      "metadata": {
        "id": "olmai0oFbDJM"
      }
    },
    {
      "cell_type": "code",
      "source": [
        "weight=int(input(\"물체의 무게를 입력하시오(킬로그램) :\"))\n",
        "speed=int(input(\"물체의 속도를 입력하시오(미터/초) :\"))\n",
        "print(\"물체는\", 0.5*weight*speed**2, \"(줄)의 에너지를 가지고 있다.\")"
      ],
      "metadata": {
        "colab": {
          "base_uri": "https://localhost:8080/"
        },
        "id": "mC3mSecQbECo",
        "outputId": "347764d2-951e-44ec-a700-a56bce3d67b6"
      },
      "execution_count": 7,
      "outputs": [
        {
          "output_type": "stream",
          "name": "stdout",
          "text": [
            "물체의 무게를 입력하시오(킬로그램) :10\n",
            "물체의 속도를 입력하시오(미터/초) :100\n",
            "물체는 50000.0 (줄)의 에너지를 가지고 있다.\n"
          ]
        }
      ]
    }
  ]
}